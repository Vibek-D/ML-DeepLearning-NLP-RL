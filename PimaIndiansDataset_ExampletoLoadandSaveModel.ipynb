{
 "cells": [
  {
   "cell_type": "code",
   "execution_count": 1,
   "metadata": {},
   "outputs": [],
   "source": [
    "import requests\n",
    "data = requests.get('https://raw.githubusercontent.com/jbrownlee/Datasets/master/pima-indians-diabetes.data.csv')"
   ]
  },
  {
   "cell_type": "code",
   "execution_count": 5,
   "metadata": {},
   "outputs": [
    {
     "name": "stdout",
     "output_type": "stream",
     "text": [
      "   6  148  72  35    0  33.6  0.627  50  1\n",
      "0  1   85  66  29    0  26.6  0.351  31  0\n",
      "1  8  183  64   0    0  23.3  0.672  32  1\n",
      "2  1   89  66  23   94  28.1  0.167  21  0\n",
      "3  0  137  40  35  168  43.1  2.288  33  1\n",
      "4  5  116  74   0    0  25.6  0.201  30  0\n"
     ]
    }
   ],
   "source": [
    "import io\n",
    "import pandas as pd\n",
    "dataset = pd.read_csv(io.StringIO(data.text))   \n",
    "print(dataset.head())"
   ]
  },
  {
   "cell_type": "code",
   "execution_count": 1,
   "metadata": {},
   "outputs": [
    {
     "name": "stderr",
     "output_type": "stream",
     "text": [
      "Using TensorFlow backend.\n"
     ]
    }
   ],
   "source": [
    "# MLP for Pima Indians Dataset Serialize to JSON and HDF5\n",
    "from keras.models import Sequential\n",
    "from keras.layers import Dense\n",
    "from keras.models import model_from_json\n",
    "import numpy\n",
    "import os"
   ]
  },
  {
   "cell_type": "code",
   "execution_count": 2,
   "metadata": {},
   "outputs": [],
   "source": [
    "from tensorflow.keras.callbacks import TensorBoard\n",
    "NAME = \"TFBoard\"\n",
    "\n",
    "tensorboard = TensorBoard(log_dir=\"logs/{}\".format(NAME))"
   ]
  },
  {
   "cell_type": "markdown",
   "metadata": {},
   "source": [
    "## BELOW WE HAVE USED NUMPY TO READ THE CSV"
   ]
  },
  {
   "cell_type": "code",
   "execution_count": 3,
   "metadata": {},
   "outputs": [],
   "source": [
    "# fix random seed for reproducibility\n",
    "numpy.random.seed(7)\n",
    "# load pima indians dataset\n",
    "dataset = numpy.loadtxt(\"pima-indians-diabetes.csv\", delimiter=\",\")\n",
    "# split into input (X) and output (Y) variables\n",
    "X = dataset[:,0:8]\n",
    "Y = dataset[:,8]"
   ]
  },
  {
   "cell_type": "code",
   "execution_count": 4,
   "metadata": {},
   "outputs": [
    {
     "data": {
      "text/plain": [
       "array([[  6.   , 148.   ,  72.   , ...,  33.6  ,   0.627,  50.   ],\n",
       "       [  1.   ,  85.   ,  66.   , ...,  26.6  ,   0.351,  31.   ],\n",
       "       [  8.   , 183.   ,  64.   , ...,  23.3  ,   0.672,  32.   ],\n",
       "       ...,\n",
       "       [  5.   , 121.   ,  72.   , ...,  26.2  ,   0.245,  30.   ],\n",
       "       [  1.   , 126.   ,  60.   , ...,  30.1  ,   0.349,  47.   ],\n",
       "       [  1.   ,  93.   ,  70.   , ...,  30.4  ,   0.315,  23.   ]])"
      ]
     },
     "execution_count": 4,
     "metadata": {},
     "output_type": "execute_result"
    }
   ],
   "source": [
    "X"
   ]
  },
  {
   "cell_type": "code",
   "execution_count": 5,
   "metadata": {},
   "outputs": [
    {
     "data": {
      "text/plain": [
       "array([1., 0., 1., 0., 1., 0., 1., 0., 1., 1., 0., 1., 0., 1., 1., 1., 1.,\n",
       "       1., 0., 1., 0., 0., 1., 1., 1., 1., 1., 0., 0., 0., 0., 1., 0., 0.,\n",
       "       0., 0., 0., 1., 1., 1., 0., 0., 0., 1., 0., 1., 0., 0., 1., 0., 0.,\n",
       "       0., 0., 1., 0., 0., 1., 0., 0., 0., 0., 1., 0., 0., 1., 0., 1., 0.,\n",
       "       0., 0., 1., 0., 1., 0., 0., 0., 0., 0., 1., 0., 0., 0., 0., 0., 1.,\n",
       "       0., 0., 0., 1., 0., 0., 0., 0., 1., 0., 0., 0., 0., 0., 1., 1., 0.,\n",
       "       0., 0., 0., 0., 0., 0., 0., 1., 1., 1., 0., 0., 1., 1., 1., 0., 0.,\n",
       "       0., 1., 0., 0., 0., 1., 1., 0., 0., 1., 1., 1., 1., 1., 0., 0., 0.,\n",
       "       0., 0., 0., 0., 0., 0., 0., 1., 0., 0., 0., 0., 0., 0., 0., 0., 1.,\n",
       "       0., 1., 1., 0., 0., 0., 1., 0., 0., 0., 0., 1., 1., 0., 0., 0., 0.,\n",
       "       1., 1., 0., 0., 0., 1., 0., 1., 0., 1., 0., 0., 0., 0., 0., 1., 1.,\n",
       "       1., 1., 1., 0., 0., 1., 1., 0., 1., 0., 1., 1., 1., 0., 0., 0., 0.,\n",
       "       0., 0., 1., 1., 0., 1., 0., 0., 0., 1., 1., 1., 1., 0., 1., 1., 1.,\n",
       "       1., 0., 0., 0., 0., 0., 1., 0., 0., 1., 1., 0., 0., 0., 1., 1., 1.,\n",
       "       1., 0., 0., 0., 1., 1., 0., 1., 0., 0., 0., 0., 0., 0., 0., 0., 1.,\n",
       "       1., 0., 0., 0., 1., 0., 1., 0., 0., 1., 0., 1., 0., 0., 1., 1., 0.,\n",
       "       0., 0., 0., 0., 1., 0., 0., 0., 1., 0., 0., 1., 1., 0., 0., 1., 0.,\n",
       "       0., 0., 1., 1., 1., 0., 0., 1., 0., 1., 0., 1., 1., 0., 1., 0., 0.,\n",
       "       1., 0., 1., 1., 0., 0., 1., 0., 1., 0., 0., 1., 0., 1., 0., 1., 1.,\n",
       "       1., 0., 0., 1., 0., 1., 0., 0., 0., 1., 0., 0., 0., 0., 1., 1., 1.,\n",
       "       0., 0., 0., 0., 0., 0., 0., 0., 0., 1., 0., 0., 0., 0., 0., 1., 1.,\n",
       "       1., 0., 1., 1., 0., 0., 1., 0., 0., 1., 0., 0., 1., 1., 0., 0., 0.,\n",
       "       0., 1., 0., 0., 1., 0., 0., 0., 0., 0., 0., 0., 1., 1., 1., 0., 0.,\n",
       "       1., 0., 0., 1., 0., 0., 1., 0., 1., 1., 0., 1., 0., 1., 0., 1., 0.,\n",
       "       1., 1., 0., 0., 0., 0., 1., 1., 0., 1., 0., 1., 0., 0., 0., 0., 1.,\n",
       "       1., 0., 1., 0., 1., 0., 0., 0., 0., 0., 1., 0., 0., 0., 0., 1., 0.,\n",
       "       0., 1., 1., 1., 0., 0., 1., 0., 0., 1., 0., 0., 0., 1., 0., 0., 1.,\n",
       "       0., 0., 0., 0., 0., 0., 0., 0., 0., 1., 0., 0., 0., 0., 0., 0., 0.,\n",
       "       1., 0., 0., 0., 1., 0., 0., 0., 1., 1., 0., 0., 0., 0., 0., 0., 0.,\n",
       "       1., 0., 0., 0., 0., 1., 0., 0., 0., 1., 0., 0., 0., 1., 0., 0., 0.,\n",
       "       1., 0., 0., 0., 0., 1., 1., 0., 0., 0., 0., 0., 0., 1., 0., 0., 0.,\n",
       "       0., 0., 0., 0., 0., 0., 0., 0., 1., 0., 0., 0., 1., 1., 1., 1., 0.,\n",
       "       0., 1., 1., 0., 0., 0., 0., 0., 0., 0., 0., 0., 0., 0., 0., 0., 1.,\n",
       "       1., 0., 0., 0., 0., 0., 0., 0., 1., 0., 0., 0., 0., 0., 0., 0., 1.,\n",
       "       0., 1., 1., 0., 0., 0., 1., 0., 1., 0., 1., 0., 1., 0., 1., 0., 0.,\n",
       "       1., 0., 0., 1., 0., 0., 0., 0., 1., 1., 0., 1., 0., 0., 0., 0., 1.,\n",
       "       1., 0., 1., 0., 0., 0., 1., 1., 0., 0., 0., 0., 0., 0., 0., 0., 0.,\n",
       "       0., 1., 0., 0., 0., 0., 1., 0., 0., 1., 0., 0., 0., 1., 0., 0., 0.,\n",
       "       1., 1., 1., 0., 0., 0., 0., 0., 0., 1., 0., 0., 0., 1., 0., 1., 1.,\n",
       "       1., 1., 0., 1., 1., 0., 0., 0., 0., 0., 0., 0., 1., 1., 0., 1., 0.,\n",
       "       0., 1., 0., 1., 0., 0., 0., 0., 0., 1., 0., 1., 0., 1., 0., 1., 1.,\n",
       "       0., 0., 0., 0., 1., 1., 0., 0., 0., 1., 0., 1., 1., 0., 0., 1., 0.,\n",
       "       0., 1., 1., 0., 0., 1., 0., 0., 1., 0., 0., 0., 0., 0., 0., 0., 1.,\n",
       "       1., 1., 0., 0., 0., 0., 0., 0., 1., 1., 0., 0., 1., 0., 0., 1., 0.,\n",
       "       1., 1., 1., 0., 0., 1., 1., 1., 0., 1., 0., 1., 0., 1., 0., 0., 0.,\n",
       "       0., 1., 0.])"
      ]
     },
     "execution_count": 5,
     "metadata": {},
     "output_type": "execute_result"
    }
   ],
   "source": [
    "Y"
   ]
  },
  {
   "cell_type": "markdown",
   "metadata": {},
   "source": [
    "## BELOW WE HAVE USED PANDAS TO READ THE CSV"
   ]
  },
  {
   "cell_type": "code",
   "execution_count": 6,
   "metadata": {
    "scrolled": false
   },
   "outputs": [],
   "source": [
    "# Import pandas \n",
    "import pandas as pd \n",
    "  \n",
    "# reading csv file  \n",
    "df=pd.read_csv(\"pima-indians-diabetes.csv\", sep='\\t') "
   ]
  },
  {
   "cell_type": "code",
   "execution_count": 7,
   "metadata": {},
   "outputs": [
    {
     "data": {
      "text/html": [
       "<div>\n",
       "<style scoped>\n",
       "    .dataframe tbody tr th:only-of-type {\n",
       "        vertical-align: middle;\n",
       "    }\n",
       "\n",
       "    .dataframe tbody tr th {\n",
       "        vertical-align: top;\n",
       "    }\n",
       "\n",
       "    .dataframe thead th {\n",
       "        text-align: right;\n",
       "    }\n",
       "</style>\n",
       "<table border=\"1\" class=\"dataframe\">\n",
       "  <thead>\n",
       "    <tr style=\"text-align: right;\">\n",
       "      <th></th>\n",
       "      <th># 1. Number of times pregnant</th>\n",
       "    </tr>\n",
       "  </thead>\n",
       "  <tbody>\n",
       "    <tr>\n",
       "      <th>0</th>\n",
       "      <td># 2. Plasma glucose concentration a 2 hours in...</td>\n",
       "    </tr>\n",
       "    <tr>\n",
       "      <th>1</th>\n",
       "      <td># 3. Diastolic blood pressure (mm Hg)</td>\n",
       "    </tr>\n",
       "    <tr>\n",
       "      <th>2</th>\n",
       "      <td># 4. Triceps skin fold thickness (mm)</td>\n",
       "    </tr>\n",
       "    <tr>\n",
       "      <th>3</th>\n",
       "      <td># 5. 2-Hour serum insulin (mu U/ml)</td>\n",
       "    </tr>\n",
       "    <tr>\n",
       "      <th>4</th>\n",
       "      <td># 6. Body mass index (weight in kg/(height in ...</td>\n",
       "    </tr>\n",
       "    <tr>\n",
       "      <th>5</th>\n",
       "      <td># 7. Diabetes pedigree function</td>\n",
       "    </tr>\n",
       "    <tr>\n",
       "      <th>6</th>\n",
       "      <td># 8. Age (years)</td>\n",
       "    </tr>\n",
       "    <tr>\n",
       "      <th>7</th>\n",
       "      <td># 9. Class variable (0 or 1)</td>\n",
       "    </tr>\n",
       "    <tr>\n",
       "      <th>8</th>\n",
       "      <td>6,148,72,35,0,33.6,0.627,50,1</td>\n",
       "    </tr>\n",
       "    <tr>\n",
       "      <th>9</th>\n",
       "      <td>1,85,66,29,0,26.6,0.351,31,0</td>\n",
       "    </tr>\n",
       "    <tr>\n",
       "      <th>10</th>\n",
       "      <td>8,183,64,0,0,23.3,0.672,32,1</td>\n",
       "    </tr>\n",
       "    <tr>\n",
       "      <th>11</th>\n",
       "      <td>1,89,66,23,94,28.1,0.167,21,0</td>\n",
       "    </tr>\n",
       "    <tr>\n",
       "      <th>12</th>\n",
       "      <td>0,137,40,35,168,43.1,2.288,33,1</td>\n",
       "    </tr>\n",
       "    <tr>\n",
       "      <th>13</th>\n",
       "      <td>5,116,74,0,0,25.6,0.201,30,0</td>\n",
       "    </tr>\n",
       "    <tr>\n",
       "      <th>14</th>\n",
       "      <td>3,78,50,32,88,31.0,0.248,26,1</td>\n",
       "    </tr>\n",
       "    <tr>\n",
       "      <th>15</th>\n",
       "      <td>10,115,0,0,0,35.3,0.134,29,0</td>\n",
       "    </tr>\n",
       "    <tr>\n",
       "      <th>16</th>\n",
       "      <td>2,197,70,45,543,30.5,0.158,53,1</td>\n",
       "    </tr>\n",
       "    <tr>\n",
       "      <th>17</th>\n",
       "      <td>8,125,96,0,0,0.0,0.232,54,1</td>\n",
       "    </tr>\n",
       "    <tr>\n",
       "      <th>18</th>\n",
       "      <td>4,110,92,0,0,37.6,0.191,30,0</td>\n",
       "    </tr>\n",
       "    <tr>\n",
       "      <th>19</th>\n",
       "      <td>10,168,74,0,0,38.0,0.537,34,1</td>\n",
       "    </tr>\n",
       "    <tr>\n",
       "      <th>20</th>\n",
       "      <td>10,139,80,0,0,27.1,1.441,57,0</td>\n",
       "    </tr>\n",
       "    <tr>\n",
       "      <th>21</th>\n",
       "      <td>1,189,60,23,846,30.1,0.398,59,1</td>\n",
       "    </tr>\n",
       "    <tr>\n",
       "      <th>22</th>\n",
       "      <td>5,166,72,19,175,25.8,0.587,51,1</td>\n",
       "    </tr>\n",
       "    <tr>\n",
       "      <th>23</th>\n",
       "      <td>7,100,0,0,0,30.0,0.484,32,1</td>\n",
       "    </tr>\n",
       "    <tr>\n",
       "      <th>24</th>\n",
       "      <td>0,118,84,47,230,45.8,0.551,31,1</td>\n",
       "    </tr>\n",
       "    <tr>\n",
       "      <th>25</th>\n",
       "      <td>7,107,74,0,0,29.6,0.254,31,1</td>\n",
       "    </tr>\n",
       "    <tr>\n",
       "      <th>26</th>\n",
       "      <td>1,103,30,38,83,43.3,0.183,33,0</td>\n",
       "    </tr>\n",
       "    <tr>\n",
       "      <th>27</th>\n",
       "      <td>1,115,70,30,96,34.6,0.529,32,1</td>\n",
       "    </tr>\n",
       "    <tr>\n",
       "      <th>28</th>\n",
       "      <td>3,126,88,41,235,39.3,0.704,27,0</td>\n",
       "    </tr>\n",
       "    <tr>\n",
       "      <th>29</th>\n",
       "      <td>8,99,84,0,0,35.4,0.388,50,0</td>\n",
       "    </tr>\n",
       "    <tr>\n",
       "      <th>...</th>\n",
       "      <td>...</td>\n",
       "    </tr>\n",
       "    <tr>\n",
       "      <th>746</th>\n",
       "      <td>2,99,60,17,160,36.6,0.453,21,0</td>\n",
       "    </tr>\n",
       "    <tr>\n",
       "      <th>747</th>\n",
       "      <td>1,102,74,0,0,39.5,0.293,42,1</td>\n",
       "    </tr>\n",
       "    <tr>\n",
       "      <th>748</th>\n",
       "      <td>11,120,80,37,150,42.3,0.785,48,1</td>\n",
       "    </tr>\n",
       "    <tr>\n",
       "      <th>749</th>\n",
       "      <td>3,102,44,20,94,30.8,0.400,26,0</td>\n",
       "    </tr>\n",
       "    <tr>\n",
       "      <th>750</th>\n",
       "      <td>1,109,58,18,116,28.5,0.219,22,0</td>\n",
       "    </tr>\n",
       "    <tr>\n",
       "      <th>751</th>\n",
       "      <td>9,140,94,0,0,32.7,0.734,45,1</td>\n",
       "    </tr>\n",
       "    <tr>\n",
       "      <th>752</th>\n",
       "      <td>13,153,88,37,140,40.6,1.174,39,0</td>\n",
       "    </tr>\n",
       "    <tr>\n",
       "      <th>753</th>\n",
       "      <td>12,100,84,33,105,30.0,0.488,46,0</td>\n",
       "    </tr>\n",
       "    <tr>\n",
       "      <th>754</th>\n",
       "      <td>1,147,94,41,0,49.3,0.358,27,1</td>\n",
       "    </tr>\n",
       "    <tr>\n",
       "      <th>755</th>\n",
       "      <td>1,81,74,41,57,46.3,1.096,32,0</td>\n",
       "    </tr>\n",
       "    <tr>\n",
       "      <th>756</th>\n",
       "      <td>3,187,70,22,200,36.4,0.408,36,1</td>\n",
       "    </tr>\n",
       "    <tr>\n",
       "      <th>757</th>\n",
       "      <td>6,162,62,0,0,24.3,0.178,50,1</td>\n",
       "    </tr>\n",
       "    <tr>\n",
       "      <th>758</th>\n",
       "      <td>4,136,70,0,0,31.2,1.182,22,1</td>\n",
       "    </tr>\n",
       "    <tr>\n",
       "      <th>759</th>\n",
       "      <td>1,121,78,39,74,39.0,0.261,28,0</td>\n",
       "    </tr>\n",
       "    <tr>\n",
       "      <th>760</th>\n",
       "      <td>3,108,62,24,0,26.0,0.223,25,0</td>\n",
       "    </tr>\n",
       "    <tr>\n",
       "      <th>761</th>\n",
       "      <td>0,181,88,44,510,43.3,0.222,26,1</td>\n",
       "    </tr>\n",
       "    <tr>\n",
       "      <th>762</th>\n",
       "      <td>8,154,78,32,0,32.4,0.443,45,1</td>\n",
       "    </tr>\n",
       "    <tr>\n",
       "      <th>763</th>\n",
       "      <td>1,128,88,39,110,36.5,1.057,37,1</td>\n",
       "    </tr>\n",
       "    <tr>\n",
       "      <th>764</th>\n",
       "      <td>7,137,90,41,0,32.0,0.391,39,0</td>\n",
       "    </tr>\n",
       "    <tr>\n",
       "      <th>765</th>\n",
       "      <td>0,123,72,0,0,36.3,0.258,52,1</td>\n",
       "    </tr>\n",
       "    <tr>\n",
       "      <th>766</th>\n",
       "      <td>1,106,76,0,0,37.5,0.197,26,0</td>\n",
       "    </tr>\n",
       "    <tr>\n",
       "      <th>767</th>\n",
       "      <td>6,190,92,0,0,35.5,0.278,66,1</td>\n",
       "    </tr>\n",
       "    <tr>\n",
       "      <th>768</th>\n",
       "      <td>2,88,58,26,16,28.4,0.766,22,0</td>\n",
       "    </tr>\n",
       "    <tr>\n",
       "      <th>769</th>\n",
       "      <td>9,170,74,31,0,44.0,0.403,43,1</td>\n",
       "    </tr>\n",
       "    <tr>\n",
       "      <th>770</th>\n",
       "      <td>9,89,62,0,0,22.5,0.142,33,0</td>\n",
       "    </tr>\n",
       "    <tr>\n",
       "      <th>771</th>\n",
       "      <td>10,101,76,48,180,32.9,0.171,63,0</td>\n",
       "    </tr>\n",
       "    <tr>\n",
       "      <th>772</th>\n",
       "      <td>2,122,70,27,0,36.8,0.340,27,0</td>\n",
       "    </tr>\n",
       "    <tr>\n",
       "      <th>773</th>\n",
       "      <td>5,121,72,23,112,26.2,0.245,30,0</td>\n",
       "    </tr>\n",
       "    <tr>\n",
       "      <th>774</th>\n",
       "      <td>1,126,60,0,0,30.1,0.349,47,1</td>\n",
       "    </tr>\n",
       "    <tr>\n",
       "      <th>775</th>\n",
       "      <td>1,93,70,31,0,30.4,0.315,23,0</td>\n",
       "    </tr>\n",
       "  </tbody>\n",
       "</table>\n",
       "<p>776 rows × 1 columns</p>\n",
       "</div>"
      ],
      "text/plain": [
       "                         # 1. Number of times pregnant\n",
       "0    # 2. Plasma glucose concentration a 2 hours in...\n",
       "1                # 3. Diastolic blood pressure (mm Hg)\n",
       "2                # 4. Triceps skin fold thickness (mm)\n",
       "3                  # 5. 2-Hour serum insulin (mu U/ml)\n",
       "4    # 6. Body mass index (weight in kg/(height in ...\n",
       "5                      # 7. Diabetes pedigree function\n",
       "6                                     # 8. Age (years)\n",
       "7                         # 9. Class variable (0 or 1)\n",
       "8                        6,148,72,35,0,33.6,0.627,50,1\n",
       "9                         1,85,66,29,0,26.6,0.351,31,0\n",
       "10                        8,183,64,0,0,23.3,0.672,32,1\n",
       "11                       1,89,66,23,94,28.1,0.167,21,0\n",
       "12                     0,137,40,35,168,43.1,2.288,33,1\n",
       "13                        5,116,74,0,0,25.6,0.201,30,0\n",
       "14                       3,78,50,32,88,31.0,0.248,26,1\n",
       "15                        10,115,0,0,0,35.3,0.134,29,0\n",
       "16                     2,197,70,45,543,30.5,0.158,53,1\n",
       "17                         8,125,96,0,0,0.0,0.232,54,1\n",
       "18                        4,110,92,0,0,37.6,0.191,30,0\n",
       "19                       10,168,74,0,0,38.0,0.537,34,1\n",
       "20                       10,139,80,0,0,27.1,1.441,57,0\n",
       "21                     1,189,60,23,846,30.1,0.398,59,1\n",
       "22                     5,166,72,19,175,25.8,0.587,51,1\n",
       "23                         7,100,0,0,0,30.0,0.484,32,1\n",
       "24                     0,118,84,47,230,45.8,0.551,31,1\n",
       "25                        7,107,74,0,0,29.6,0.254,31,1\n",
       "26                      1,103,30,38,83,43.3,0.183,33,0\n",
       "27                      1,115,70,30,96,34.6,0.529,32,1\n",
       "28                     3,126,88,41,235,39.3,0.704,27,0\n",
       "29                         8,99,84,0,0,35.4,0.388,50,0\n",
       "..                                                 ...\n",
       "746                     2,99,60,17,160,36.6,0.453,21,0\n",
       "747                       1,102,74,0,0,39.5,0.293,42,1\n",
       "748                   11,120,80,37,150,42.3,0.785,48,1\n",
       "749                     3,102,44,20,94,30.8,0.400,26,0\n",
       "750                    1,109,58,18,116,28.5,0.219,22,0\n",
       "751                       9,140,94,0,0,32.7,0.734,45,1\n",
       "752                   13,153,88,37,140,40.6,1.174,39,0\n",
       "753                   12,100,84,33,105,30.0,0.488,46,0\n",
       "754                      1,147,94,41,0,49.3,0.358,27,1\n",
       "755                      1,81,74,41,57,46.3,1.096,32,0\n",
       "756                    3,187,70,22,200,36.4,0.408,36,1\n",
       "757                       6,162,62,0,0,24.3,0.178,50,1\n",
       "758                       4,136,70,0,0,31.2,1.182,22,1\n",
       "759                     1,121,78,39,74,39.0,0.261,28,0\n",
       "760                      3,108,62,24,0,26.0,0.223,25,0\n",
       "761                    0,181,88,44,510,43.3,0.222,26,1\n",
       "762                      8,154,78,32,0,32.4,0.443,45,1\n",
       "763                    1,128,88,39,110,36.5,1.057,37,1\n",
       "764                      7,137,90,41,0,32.0,0.391,39,0\n",
       "765                       0,123,72,0,0,36.3,0.258,52,1\n",
       "766                       1,106,76,0,0,37.5,0.197,26,0\n",
       "767                       6,190,92,0,0,35.5,0.278,66,1\n",
       "768                      2,88,58,26,16,28.4,0.766,22,0\n",
       "769                      9,170,74,31,0,44.0,0.403,43,1\n",
       "770                        9,89,62,0,0,22.5,0.142,33,0\n",
       "771                   10,101,76,48,180,32.9,0.171,63,0\n",
       "772                      2,122,70,27,0,36.8,0.340,27,0\n",
       "773                    5,121,72,23,112,26.2,0.245,30,0\n",
       "774                       1,126,60,0,0,30.1,0.349,47,1\n",
       "775                       1,93,70,31,0,30.4,0.315,23,0\n",
       "\n",
       "[776 rows x 1 columns]"
      ]
     },
     "execution_count": 7,
     "metadata": {},
     "output_type": "execute_result"
    }
   ],
   "source": [
    "df"
   ]
  },
  {
   "cell_type": "code",
   "execution_count": 8,
   "metadata": {},
   "outputs": [],
   "source": [
    "from tensorflow.keras.callbacks import TensorBoard"
   ]
  },
  {
   "cell_type": "code",
   "execution_count": 9,
   "metadata": {},
   "outputs": [],
   "source": [
    "NAME = \"PIMA-DIABETES-TFBOARD\"\n",
    "\n",
    "tensorboard = TensorBoard(log_dir=\"logs/{}\".format(NAME))"
   ]
  },
  {
   "cell_type": "code",
   "execution_count": 10,
   "metadata": {},
   "outputs": [
    {
     "name": "stdout",
     "output_type": "stream",
     "text": [
      "Epoch 1/150\n",
      "768/768 [==============================] - 4s 6ms/step - loss: 0.6772 - acc: 0.6510\n",
      "Epoch 2/150\n",
      "768/768 [==============================] - 4s 5ms/step - loss: 0.6584 - acc: 0.6510A: 2s - l\n",
      "Epoch 3/150\n",
      "768/768 [==============================] - 3s 5ms/step - loss: 0.6469 - acc: 0.6510A: 0s - loss: 0.6476 - acc: 0.\n",
      "Epoch 4/150\n",
      "768/768 [==============================] - 4s 5ms/step - loss: 0.6391 - acc: 0.6510\n",
      "Epoch 5/150\n",
      "768/768 [==============================] - 4s 6ms/step - loss: 0.6322 - acc: 0.6510\n",
      "Epoch 6/150\n",
      "768/768 [==============================] - 3s 5ms/step - loss: 0.6183 - acc: 0.6510\n",
      "Epoch 7/150\n",
      "768/768 [==============================] - 4s 5ms/step - loss: 0.6189 - acc: 0.6510\n",
      "Epoch 8/150\n",
      "768/768 [==============================] - 4s 5ms/step - loss: 0.6138 - acc: 0.6510\n",
      "Epoch 9/150\n",
      "768/768 [==============================] - 3s 5ms/step - loss: 0.6088 - acc: 0.6510\n",
      "Epoch 10/150\n",
      "768/768 [==============================] - 4s 5ms/step - loss: 0.6165 - acc: 0.6510\n",
      "Epoch 11/150\n",
      "768/768 [==============================] - 4s 5ms/step - loss: 0.6054 - acc: 0.6510\n",
      "Epoch 12/150\n",
      "768/768 [==============================] - 3s 5ms/step - loss: 0.6029 - acc: 0.6510A: 2s - l\n",
      "Epoch 13/150\n",
      "768/768 [==============================] - 3s 4ms/step - loss: 0.6004 - acc: 0.6510\n",
      "Epoch 14/150\n",
      "768/768 [==============================] - 3s 5ms/step - loss: 0.6024 - acc: 0.6510A: 1s - loss: 0.6046 \n",
      "Epoch 15/150\n",
      "768/768 [==============================] - 4s 5ms/step - loss: 0.5993 - acc: 0.6510A: 2s - los - ETA: 0s - loss: 0.5914 - acc\n",
      "Epoch 16/150\n",
      "768/768 [==============================] - 4s 5ms/step - loss: 0.5999 - acc: 0.6510\n",
      "Epoch 17/150\n",
      "768/768 [==============================] - 4s 5ms/step - loss: 0.6009 - acc: 0.6510\n",
      "Epoch 18/150\n",
      "768/768 [==============================] - 4s 5ms/step - loss: 0.6003 - acc: 0.6510\n",
      "Epoch 19/150\n",
      "768/768 [==============================] - 3s 4ms/step - loss: 0.5956 - acc: 0.6510\n",
      "Epoch 20/150\n",
      "768/768 [==============================] - 3s 4ms/step - loss: 0.6006 - acc: 0.6510A: \n",
      "Epoch 21/150\n",
      "768/768 [==============================] - 3s 4ms/step - loss: 0.5953 - acc: 0.6510\n",
      "Epoch 22/150\n",
      "768/768 [==============================] - 3s 4ms/step - loss: 0.5959 - acc: 0.6510\n",
      "Epoch 23/150\n",
      "768/768 [==============================] - 3s 4ms/step - loss: 0.5935 - acc: 0.6510\n",
      "Epoch 24/150\n",
      "768/768 [==============================] - 3s 4ms/step - loss: 0.5992 - acc: 0.6510\n",
      "Epoch 25/150\n",
      "768/768 [==============================] - 3s 4ms/step - loss: 0.5956 - acc: 0.6510\n",
      "Epoch 26/150\n",
      "768/768 [==============================] - 3s 4ms/step - loss: 0.5978 - acc: 0.6510\n",
      "Epoch 27/150\n",
      "768/768 [==============================] - 3s 4ms/step - loss: 0.5950 - acc: 0.6510\n",
      "Epoch 28/150\n",
      "768/768 [==============================] - 3s 4ms/step - loss: 0.5903 - acc: 0.6510\n",
      "Epoch 29/150\n",
      "768/768 [==============================] - 3s 4ms/step - loss: 0.5936 - acc: 0.6510\n",
      "Epoch 30/150\n",
      "768/768 [==============================] - 3s 4ms/step - loss: 0.5903 - acc: 0.6510\n",
      "Epoch 31/150\n",
      "768/768 [==============================] - 3s 4ms/step - loss: 0.5895 - acc: 0.6510\n",
      "Epoch 32/150\n",
      "768/768 [==============================] - 3s 4ms/step - loss: 0.5900 - acc: 0.6510\n",
      "Epoch 33/150\n",
      "768/768 [==============================] - 3s 4ms/step - loss: 0.5853 - acc: 0.6510\n",
      "Epoch 34/150\n",
      "768/768 [==============================] - 4s 5ms/step - loss: 0.5910 - acc: 0.6510\n",
      "Epoch 35/150\n",
      " 20/768 [..............................] - ETA: 5s - loss: 0.7046 - acc: 0.6500"
     ]
    },
    {
     "name": "stderr",
     "output_type": "stream",
     "text": [
      "C:\\Users\\ViksIsBck\\Anaconda3\\envs\\EnvironmentOne\\lib\\site-packages\\keras\\callbacks.py:122: UserWarning: Method on_batch_end() is slow compared to the batch update (0.109368). Check your callbacks.\n",
      "  % delta_t_median)\n"
     ]
    },
    {
     "name": "stdout",
     "output_type": "stream",
     "text": [
      "\b\b\b\b\b\b\b\b\b\b\b\b\b\b\b\b\b\b\b\b\b\b\b\b\b\b\b\b\b\b\b\b\b\b\b\b\b\b\b\b\b\b\b\b\b\b\b\b\b\b\b\b\b\b\b\b\b\b\b\b\b\b\b\b\b\b\b\b\b\b\b\b\b\b\b\b\b\b\b\r",
      " 30/768 [>.............................] - ETA: 9s - loss: 0.6743 - acc: 0.6333"
     ]
    },
    {
     "name": "stderr",
     "output_type": "stream",
     "text": [
      "C:\\Users\\ViksIsBck\\Anaconda3\\envs\\EnvironmentOne\\lib\\site-packages\\keras\\callbacks.py:122: UserWarning: Method on_batch_end() is slow compared to the batch update (0.164052). Check your callbacks.\n",
      "  % delta_t_median)\n"
     ]
    },
    {
     "name": "stdout",
     "output_type": "stream",
     "text": [
      "\b\b\b\b\b\b\b\b\b\b\b\b\b\b\b\b\b\b\b\b\b\b\b\b\b\b\b\b\b\b\b\b\b\b\b\b\b\b\b\b\b\b\b\b\b\b\b\b\b\b\b\b\b\b\b\b\b\b\b\b\b\b\b\b\b\b\b\b\b\b\b\b\b\b\b\b\b\b\b\r",
      " 40/768 [>.............................] - ETA: 16s - loss: 0.6627 - acc: 0.6500"
     ]
    },
    {
     "name": "stderr",
     "output_type": "stream",
     "text": [
      "C:\\Users\\ViksIsBck\\Anaconda3\\envs\\EnvironmentOne\\lib\\site-packages\\keras\\callbacks.py:122: UserWarning: Method on_batch_end() is slow compared to the batch update (0.218736). Check your callbacks.\n",
      "  % delta_t_median)\n"
     ]
    },
    {
     "name": "stdout",
     "output_type": "stream",
     "text": [
      "\b\b\b\b\b\b\b\b\b\b\b\b\b\b\b\b\b\b\b\b\b\b\b\b\b\b\b\b\b\b\b\b\b\b\b\b\b\b\b\b\b\b\b\b\b\b\b\b\b\b\b\b\b\b\b\b\b\b\b\b\b\b\b\b\b\b\b\b\b\b\b\b\b\b\b\b\b\b\b\b\r",
      " 50/768 [>.............................] - ETA: 18s - loss: 0.6266 - acc: 0.6600"
     ]
    },
    {
     "name": "stderr",
     "output_type": "stream",
     "text": [
      "C:\\Users\\ViksIsBck\\Anaconda3\\envs\\EnvironmentOne\\lib\\site-packages\\keras\\callbacks.py:122: UserWarning: Method on_batch_end() is slow compared to the batch update (0.242171). Check your callbacks.\n",
      "  % delta_t_median)\n"
     ]
    },
    {
     "name": "stdout",
     "output_type": "stream",
     "text": [
      "100/768 [==>...........................] - ETA: 14s - loss: 0.6230 - acc: 0.6500"
     ]
    },
    {
     "name": "stderr",
     "output_type": "stream",
     "text": [
      "C:\\Users\\ViksIsBck\\Anaconda3\\envs\\EnvironmentOne\\lib\\site-packages\\keras\\callbacks.py:122: UserWarning: Method on_batch_end() is slow compared to the batch update (0.218733). Check your callbacks.\n",
      "  % delta_t_median)\n"
     ]
    },
    {
     "name": "stdout",
     "output_type": "stream",
     "text": [
      "140/768 [====>.........................] - ETA: 11s - loss: 0.6339 - acc: 0.6429"
     ]
    },
    {
     "name": "stderr",
     "output_type": "stream",
     "text": [
      "C:\\Users\\ViksIsBck\\Anaconda3\\envs\\EnvironmentOne\\lib\\site-packages\\keras\\callbacks.py:122: UserWarning: Method on_batch_end() is slow compared to the batch update (0.195297). Check your callbacks.\n",
      "  % delta_t_median)\n",
      "C:\\Users\\ViksIsBck\\Anaconda3\\envs\\EnvironmentOne\\lib\\site-packages\\keras\\callbacks.py:122: UserWarning: Method on_batch_end() is slow compared to the batch update (0.156236). Check your callbacks.\n",
      "  % delta_t_median)\n"
     ]
    },
    {
     "name": "stdout",
     "output_type": "stream",
     "text": [
      "768/768 [==============================] - 6s 8ms/step - loss: 0.5927 - acc: 0.6510\n",
      "Epoch 36/150\n",
      "768/768 [==============================] - 4s 5ms/step - loss: 0.5835 - acc: 0.6510A: 1s - loss: 0.578\n",
      "Epoch 37/150\n",
      "500/768 [==================>...........] - ETA: 2s - loss: 0.5763 - acc: 0.6640"
     ]
    },
    {
     "name": "stderr",
     "output_type": "stream",
     "text": [
      "C:\\Users\\ViksIsBck\\Anaconda3\\envs\\EnvironmentOne\\lib\\site-packages\\keras\\callbacks.py:122: UserWarning: Method on_batch_end() is slow compared to the batch update (0.101559). Check your callbacks.\n",
      "  % delta_t_median)\n"
     ]
    },
    {
     "name": "stdout",
     "output_type": "stream",
     "text": [
      "560/768 [====================>.........] - ETA: 1s - loss: 0.5768 - acc: 0.6589"
     ]
    },
    {
     "name": "stderr",
     "output_type": "stream",
     "text": [
      "C:\\Users\\ViksIsBck\\Anaconda3\\envs\\EnvironmentOne\\lib\\site-packages\\keras\\callbacks.py:122: UserWarning: Method on_batch_end() is slow compared to the batch update (0.101556). Check your callbacks.\n",
      "  % delta_t_median)\n"
     ]
    },
    {
     "name": "stdout",
     "output_type": "stream",
     "text": [
      "768/768 [==============================] - 6s 8ms/step - loss: 0.5817 - acc: 0.6510\n",
      "Epoch 38/150\n",
      "768/768 [==============================] - 5s 6ms/step - loss: 0.5909 - acc: 0.6510\n",
      "Epoch 39/150\n",
      "768/768 [==============================] - 4s 5ms/step - loss: 0.5839 - acc: 0.6484\n",
      "Epoch 40/150\n",
      "768/768 [==============================] - 3s 4ms/step - loss: 0.5875 - acc: 0.6758\n",
      "Epoch 41/150\n",
      "768/768 [==============================] - 3s 4ms/step - loss: 0.5815 - acc: 0.6979\n",
      "Epoch 42/150\n",
      "768/768 [==============================] - 3s 4ms/step - loss: 0.5802 - acc: 0.7109\n",
      "Epoch 43/150\n",
      "768/768 [==============================] - 3s 4ms/step - loss: 0.5785 - acc: 0.7083\n",
      "Epoch 44/150\n",
      "768/768 [==============================] - 3s 4ms/step - loss: 0.5851 - acc: 0.7148\n",
      "Epoch 45/150\n",
      "768/768 [==============================] - 4s 6ms/step - loss: 0.5787 - acc: 0.7174\n",
      "Epoch 46/150\n",
      "768/768 [==============================] - 4s 5ms/step - loss: 0.5758 - acc: 0.6940\n",
      "Epoch 47/150\n",
      "768/768 [==============================] - 4s 5ms/step - loss: 0.5784 - acc: 0.7201\n",
      "Epoch 48/150\n",
      "768/768 [==============================] - 3s 4ms/step - loss: 0.5752 - acc: 0.7018\n",
      "Epoch 49/150\n",
      "768/768 [==============================] - 3s 4ms/step - loss: 0.5743 - acc: 0.7109\n",
      "Epoch 50/150\n",
      "768/768 [==============================] - 3s 4ms/step - loss: 0.5764 - acc: 0.7057A: 1s - loss: \n",
      "Epoch 51/150\n",
      "768/768 [==============================] - 3s 4ms/step - loss: 0.5738 - acc: 0.7122\n",
      "Epoch 52/150\n",
      "768/768 [==============================] - 3s 4ms/step - loss: 0.5718 - acc: 0.7135A: 1s - loss: 0.5705\n",
      "Epoch 53/150\n",
      "768/768 [==============================] - 4s 5ms/step - loss: 0.5741 - acc: 0.7109\n",
      "Epoch 54/150\n",
      "768/768 [==============================] - 3s 4ms/step - loss: 0.5735 - acc: 0.7018\n",
      "Epoch 55/150\n",
      "768/768 [==============================] - 3s 4ms/step - loss: 0.5719 - acc: 0.7083\n",
      "Epoch 56/150\n",
      "768/768 [==============================] - 3s 4ms/step - loss: 0.5769 - acc: 0.7083\n",
      "Epoch 57/150\n",
      "768/768 [==============================] - 3s 5ms/step - loss: 0.5685 - acc: 0.7148\n",
      "Epoch 58/150\n",
      "768/768 [==============================] - 3s 4ms/step - loss: 0.5747 - acc: 0.7083\n",
      "Epoch 59/150\n",
      "768/768 [==============================] - 4s 5ms/step - loss: 0.5708 - acc: 0.7018A:  - ETA: 0s - loss: 0.5687 - acc: 0\n",
      "Epoch 60/150\n",
      "768/768 [==============================] - 4s 5ms/step - loss: 0.5712 - acc: 0.7070A: 1s - loss: 0.5606 \n",
      "Epoch 61/150\n",
      "768/768 [==============================] - 3s 5ms/step - loss: 0.5684 - acc: 0.7057\n",
      "Epoch 62/150\n",
      "768/768 [==============================] - 4s 5ms/step - loss: 0.5696 - acc: 0.7201A: 2s - loss: 0.5105 - acc: 0.7 - ETA: 2s - loss: 0.5210  - ETA: 2s \n",
      "Epoch 63/150\n",
      "768/768 [==============================] - 3s 5ms/step - loss: 0.5699 - acc: 0.7005\n",
      "Epoch 64/150\n",
      "768/768 [==============================] - 3s 4ms/step - loss: 0.5731 - acc: 0.7018\n",
      "Epoch 65/150\n",
      "768/768 [==============================] - 3s 4ms/step - loss: 0.5736 - acc: 0.6940\n",
      "Epoch 66/150\n",
      "768/768 [==============================] - 3s 4ms/step - loss: 0.5639 - acc: 0.7096\n",
      "Epoch 67/150\n",
      "250/768 [========>.....................] - ETA: 3s - loss: 0.5371 - acc: 0.7440"
     ]
    },
    {
     "name": "stderr",
     "output_type": "stream",
     "text": [
      "C:\\Users\\ViksIsBck\\Anaconda3\\envs\\EnvironmentOne\\lib\\site-packages\\keras\\callbacks.py:122: UserWarning: Method on_batch_end() is slow compared to the batch update (0.124994). Check your callbacks.\n",
      "  % delta_t_median)\n",
      "C:\\Users\\ViksIsBck\\Anaconda3\\envs\\EnvironmentOne\\lib\\site-packages\\keras\\callbacks.py:122: UserWarning: Method on_batch_end() is slow compared to the batch update (0.124995). Check your callbacks.\n",
      "  % delta_t_median)\n"
     ]
    },
    {
     "name": "stdout",
     "output_type": "stream",
     "text": [
      "390/768 [==============>...............] - ETA: 3s - loss: 0.5470 - acc: 0.7333"
     ]
    },
    {
     "name": "stderr",
     "output_type": "stream",
     "text": [
      "C:\\Users\\ViksIsBck\\Anaconda3\\envs\\EnvironmentOne\\lib\\site-packages\\keras\\callbacks.py:122: UserWarning: Method on_batch_end() is slow compared to the batch update (0.124969). Check your callbacks.\n",
      "  % delta_t_median)\n"
     ]
    },
    {
     "name": "stdout",
     "output_type": "stream",
     "text": [
      "410/768 [===============>..............] - ETA: 3s - loss: 0.5513 - acc: 0.7317"
     ]
    },
    {
     "name": "stderr",
     "output_type": "stream",
     "text": [
      "C:\\Users\\ViksIsBck\\Anaconda3\\envs\\EnvironmentOne\\lib\\site-packages\\keras\\callbacks.py:122: UserWarning: Method on_batch_end() is slow compared to the batch update (0.117180). Check your callbacks.\n",
      "  % delta_t_median)\n"
     ]
    },
    {
     "name": "stdout",
     "output_type": "stream",
     "text": [
      "520/768 [===================>..........] - ETA: 2s - loss: 0.5564 - acc: 0.7231"
     ]
    },
    {
     "name": "stderr",
     "output_type": "stream",
     "text": [
      "C:\\Users\\ViksIsBck\\Anaconda3\\envs\\EnvironmentOne\\lib\\site-packages\\keras\\callbacks.py:122: UserWarning: Method on_batch_end() is slow compared to the batch update (0.125004). Check your callbacks.\n",
      "  % delta_t_median)\n"
     ]
    },
    {
     "name": "stdout",
     "output_type": "stream",
     "text": [
      "590/768 [======================>.......] - ETA: 1s - loss: 0.5599 - acc: 0.7237"
     ]
    },
    {
     "name": "stderr",
     "output_type": "stream",
     "text": [
      "C:\\Users\\ViksIsBck\\Anaconda3\\envs\\EnvironmentOne\\lib\\site-packages\\keras\\callbacks.py:122: UserWarning: Method on_batch_end() is slow compared to the batch update (0.125002). Check your callbacks.\n",
      "  % delta_t_median)\n",
      "C:\\Users\\ViksIsBck\\Anaconda3\\envs\\EnvironmentOne\\lib\\site-packages\\keras\\callbacks.py:122: UserWarning: Method on_batch_end() is slow compared to the batch update (0.124990). Check your callbacks.\n",
      "  % delta_t_median)\n"
     ]
    },
    {
     "name": "stdout",
     "output_type": "stream",
     "text": [
      "650/768 [========================>.....] - ETA: 1s - loss: 0.5677 - acc: 0.7215"
     ]
    },
    {
     "name": "stderr",
     "output_type": "stream",
     "text": [
      "C:\\Users\\ViksIsBck\\Anaconda3\\envs\\EnvironmentOne\\lib\\site-packages\\keras\\callbacks.py:122: UserWarning: Method on_batch_end() is slow compared to the batch update (0.124975). Check your callbacks.\n",
      "  % delta_t_median)\n"
     ]
    },
    {
     "name": "stdout",
     "output_type": "stream",
     "text": [
      "768/768 [==============================] - 7s 10ms/step - loss: 0.5602 - acc: 0.7266\n",
      "Epoch 68/150\n",
      "768/768 [==============================] - 4s 6ms/step - loss: 0.5641 - acc: 0.7031\n",
      "Epoch 69/150\n",
      "768/768 [==============================] - 5s 6ms/step - loss: 0.5618 - acc: 0.7174\n",
      "Epoch 70/150\n",
      "768/768 [==============================] - 7s 9ms/step - loss: 0.5651 - acc: 0.7083A: 4s - loss: 0.5060 - - ET\n",
      "Epoch 71/150\n",
      " 10/768 [..............................] - ETA: 0s - loss: 0.5189 - acc: 0.7000"
     ]
    },
    {
     "name": "stderr",
     "output_type": "stream",
     "text": [
      "C:\\Users\\ViksIsBck\\Anaconda3\\envs\\EnvironmentOne\\lib\\site-packages\\keras\\callbacks.py:122: UserWarning: Method on_batch_end() is slow compared to the batch update (0.124992). Check your callbacks.\n",
      "  % delta_t_median)\n"
     ]
    },
    {
     "name": "stdout",
     "output_type": "stream",
     "text": [
      "768/768 [==============================] - 6s 7ms/step - loss: 0.5602 - acc: 0.7109A: 1s - loss\n",
      "Epoch 72/150\n",
      "768/768 [==============================] - 4s 5ms/step - loss: 0.5588 - acc: 0.7031\n",
      "Epoch 73/150\n",
      "768/768 [==============================] - 4s 5ms/step - loss: 0.5572 - acc: 0.7122\n",
      "Epoch 74/150\n",
      "768/768 [==============================] - 4s 5ms/step - loss: 0.5597 - acc: 0.7057\n",
      "Epoch 75/150\n",
      "768/768 [==============================] - 4s 5ms/step - loss: 0.5575 - acc: 0.7148A: 1s - loss: 0.5548\n",
      "Epoch 76/150\n",
      "270/768 [=========>....................] - ETA: 3s - loss: 0.5615 - acc: 0.6889"
     ]
    },
    {
     "name": "stderr",
     "output_type": "stream",
     "text": [
      "C:\\Users\\ViksIsBck\\Anaconda3\\envs\\EnvironmentOne\\lib\\site-packages\\keras\\callbacks.py:122: UserWarning: Method on_batch_end() is slow compared to the batch update (0.124991). Check your callbacks.\n",
      "  % delta_t_median)\n"
     ]
    },
    {
     "name": "stdout",
     "output_type": "stream",
     "text": [
      "310/768 [===========>..................] - ETA: 3s - loss: 0.5630 - acc: 0.6839"
     ]
    },
    {
     "name": "stderr",
     "output_type": "stream",
     "text": [
      "C:\\Users\\ViksIsBck\\Anaconda3\\envs\\EnvironmentOne\\lib\\site-packages\\keras\\callbacks.py:122: UserWarning: Method on_batch_end() is slow compared to the batch update (0.124996). Check your callbacks.\n",
      "  % delta_t_median)\n",
      "C:\\Users\\ViksIsBck\\Anaconda3\\envs\\EnvironmentOne\\lib\\site-packages\\keras\\callbacks.py:122: UserWarning: Method on_batch_end() is slow compared to the batch update (0.124993). Check your callbacks.\n",
      "  % delta_t_median)\n"
     ]
    },
    {
     "name": "stdout",
     "output_type": "stream",
     "text": [
      "410/768 [===============>..............] - ETA: 3s - loss: 0.5591 - acc: 0.7195"
     ]
    },
    {
     "name": "stderr",
     "output_type": "stream",
     "text": [
      "C:\\Users\\ViksIsBck\\Anaconda3\\envs\\EnvironmentOne\\lib\\site-packages\\keras\\callbacks.py:122: UserWarning: Method on_batch_end() is slow compared to the batch update (0.132806). Check your callbacks.\n",
      "  % delta_t_median)\n"
     ]
    },
    {
     "name": "stdout",
     "output_type": "stream",
     "text": [
      "490/768 [==================>...........] - ETA: 2s - loss: 0.5690 - acc: 0.7143"
     ]
    },
    {
     "name": "stderr",
     "output_type": "stream",
     "text": [
      "C:\\Users\\ViksIsBck\\Anaconda3\\envs\\EnvironmentOne\\lib\\site-packages\\keras\\callbacks.py:122: UserWarning: Method on_batch_end() is slow compared to the batch update (0.156226). Check your callbacks.\n",
      "  % delta_t_median)\n"
     ]
    },
    {
     "name": "stdout",
     "output_type": "stream",
     "text": [
      "580/768 [=====================>........] - ETA: 2s - loss: 0.5675 - acc: 0.7138"
     ]
    },
    {
     "name": "stderr",
     "output_type": "stream",
     "text": [
      "C:\\Users\\ViksIsBck\\Anaconda3\\envs\\EnvironmentOne\\lib\\site-packages\\keras\\callbacks.py:122: UserWarning: Method on_batch_end() is slow compared to the batch update (0.164051). Check your callbacks.\n",
      "  % delta_t_median)\n"
     ]
    },
    {
     "name": "stdout",
     "output_type": "stream",
     "text": [
      "768/768 [==============================] - 8s 10ms/step - loss: 0.5553 - acc: 0.7187\n",
      "Epoch 77/150\n",
      "768/768 [==============================] - 3s 4ms/step - loss: 0.5532 - acc: 0.7227\n",
      "Epoch 78/150\n",
      "768/768 [==============================] - 3s 5ms/step - loss: 0.5525 - acc: 0.7096\n",
      "Epoch 79/150\n",
      "768/768 [==============================] - 4s 5ms/step - loss: 0.5534 - acc: 0.7148\n",
      "Epoch 80/150\n",
      "768/768 [==============================] - 4s 5ms/step - loss: 0.5525 - acc: 0.7174\n",
      "Epoch 81/150\n",
      "768/768 [==============================] - 4s 5ms/step - loss: 0.5526 - acc: 0.7253\n",
      "Epoch 82/150\n",
      "768/768 [==============================] - 4s 5ms/step - loss: 0.5537 - acc: 0.7122\n",
      "Epoch 83/150\n",
      "768/768 [==============================] - 3s 4ms/step - loss: 0.5518 - acc: 0.7161\n",
      "Epoch 84/150\n",
      "768/768 [==============================] - 4s 5ms/step - loss: 0.5467 - acc: 0.7240A: 0s - loss: 0.5418 - acc: 0.7\n",
      "Epoch 85/150\n",
      "768/768 [==============================] - 4s 5ms/step - loss: 0.5502 - acc: 0.7122A:\n",
      "Epoch 86/150\n",
      "768/768 [==============================] - 4s 5ms/step - loss: 0.5512 - acc: 0.7253\n",
      "Epoch 87/150\n",
      "768/768 [==============================] - 4s 5ms/step - loss: 0.5456 - acc: 0.7135\n",
      "Epoch 88/150\n",
      "768/768 [==============================] - 4s 5ms/step - loss: 0.5415 - acc: 0.7214A\n",
      "Epoch 89/150\n",
      "768/768 [==============================] - 3s 4ms/step - loss: 0.5584 - acc: 0.7253\n",
      "Epoch 90/150\n",
      "768/768 [==============================] - 4s 5ms/step - loss: 0.5443 - acc: 0.7214\n",
      "Epoch 91/150\n",
      "768/768 [==============================] - 3s 4ms/step - loss: 0.5466 - acc: 0.7135\n",
      "Epoch 92/150\n",
      "768/768 [==============================] - 3s 4ms/step - loss: 0.5423 - acc: 0.7135\n",
      "Epoch 93/150\n",
      "768/768 [==============================] - 4s 5ms/step - loss: 0.5409 - acc: 0.7161\n",
      "Epoch 94/150\n",
      "768/768 [==============================] - 3s 5ms/step - loss: 0.5426 - acc: 0.7266\n",
      "Epoch 95/150\n",
      "768/768 [==============================] - 3s 4ms/step - loss: 0.5385 - acc: 0.7253\n",
      "Epoch 96/150\n",
      "768/768 [==============================] - 4s 5ms/step - loss: 0.5426 - acc: 0.7292\n",
      "Epoch 97/150\n",
      "768/768 [==============================] - 3s 4ms/step - loss: 0.5406 - acc: 0.7266\n",
      "Epoch 98/150\n",
      "768/768 [==============================] - 4s 5ms/step - loss: 0.5369 - acc: 0.7331\n",
      "Epoch 99/150\n",
      "768/768 [==============================] - 4s 5ms/step - loss: 0.5319 - acc: 0.7266\n",
      "Epoch 100/150\n",
      "768/768 [==============================] - 3s 5ms/step - loss: 0.5379 - acc: 0.7227\n",
      "Epoch 101/150\n",
      "768/768 [==============================] - 4s 5ms/step - loss: 0.5350 - acc: 0.7201A: 1s - loss: 0.5\n",
      "Epoch 102/150\n",
      "768/768 [==============================] - 4s 5ms/step - loss: 0.5370 - acc: 0.7357\n",
      "Epoch 103/150\n",
      "768/768 [==============================] - 4s 5ms/step - loss: 0.5408 - acc: 0.7214\n",
      "Epoch 104/150\n",
      "768/768 [==============================] - 4s 6ms/step - loss: 0.5358 - acc: 0.7331\n",
      "Epoch 105/150\n",
      "768/768 [==============================] - 3s 4ms/step - loss: 0.5337 - acc: 0.7240\n",
      "Epoch 106/150\n",
      "768/768 [==============================] - 3s 4ms/step - loss: 0.5333 - acc: 0.7292A: 0s - loss: 0.5292 - acc: 0.73\n",
      "Epoch 107/150\n",
      "768/768 [==============================] - 5s 6ms/step - loss: 0.5365 - acc: 0.7383\n",
      "Epoch 108/150\n",
      "768/768 [==============================] - 3s 4ms/step - loss: 0.5360 - acc: 0.7240\n",
      "Epoch 109/150\n",
      "450/768 [================>.............] - ETA: 2s - loss: 0.5340 - acc: 0.7311"
     ]
    },
    {
     "name": "stderr",
     "output_type": "stream",
     "text": [
      "C:\\Users\\ViksIsBck\\Anaconda3\\envs\\EnvironmentOne\\lib\\site-packages\\keras\\callbacks.py:122: UserWarning: Method on_batch_end() is slow compared to the batch update (0.101554). Check your callbacks.\n",
      "  % delta_t_median)\n"
     ]
    },
    {
     "name": "stdout",
     "output_type": "stream",
     "text": [
      "768/768 [==============================] - 5s 7ms/step - loss: 0.5291 - acc: 0.7253\n",
      "Epoch 110/150\n",
      "768/768 [==============================] - 3s 4ms/step - loss: 0.5301 - acc: 0.7318\n",
      "Epoch 111/150\n",
      "768/768 [==============================] - 3s 4ms/step - loss: 0.5355 - acc: 0.7318\n",
      "Epoch 112/150\n",
      "768/768 [==============================] - 4s 5ms/step - loss: 0.5278 - acc: 0.7240\n",
      "Epoch 113/150\n",
      "768/768 [==============================] - 3s 4ms/step - loss: 0.5269 - acc: 0.7292\n",
      "Epoch 114/150\n",
      "768/768 [==============================] - 3s 4ms/step - loss: 0.5257 - acc: 0.7357A: 0s - loss: 0.5280 - \n",
      "Epoch 115/150\n",
      "768/768 [==============================] - 3s 5ms/step - loss: 0.5220 - acc: 0.7305A: 0s - loss: 0.5204 - acc\n",
      "Epoch 116/150\n",
      "768/768 [==============================] - 4s 5ms/step - loss: 0.5272 - acc: 0.7344\n",
      "Epoch 117/150\n",
      "768/768 [==============================] - 3s 5ms/step - loss: 0.5232 - acc: 0.7357\n",
      "Epoch 118/150\n",
      "768/768 [==============================] - 4s 5ms/step - loss: 0.5261 - acc: 0.7383\n",
      "Epoch 119/150\n",
      "768/768 [==============================] - 4s 5ms/step - loss: 0.5227 - acc: 0.7305\n",
      "Epoch 120/150\n",
      "768/768 [==============================] - 4s 5ms/step - loss: 0.5224 - acc: 0.7279\n",
      "Epoch 121/150\n",
      "768/768 [==============================] - 3s 5ms/step - loss: 0.5177 - acc: 0.7500\n",
      "Epoch 122/150\n",
      "768/768 [==============================] - 3s 4ms/step - loss: 0.5211 - acc: 0.7396\n",
      "Epoch 123/150\n",
      "768/768 [==============================] - 4s 5ms/step - loss: 0.5172 - acc: 0.7344\n",
      "Epoch 124/150\n",
      "768/768 [==============================] - 3s 5ms/step - loss: 0.5093 - acc: 0.7539\n",
      "Epoch 125/150\n",
      "768/768 [==============================] - 4s 5ms/step - loss: 0.5081 - acc: 0.7591\n",
      "Epoch 126/150\n",
      "768/768 [==============================] - 4s 5ms/step - loss: 0.5138 - acc: 0.7370\n",
      "Epoch 127/150\n",
      "768/768 [==============================] - 3s 5ms/step - loss: 0.5111 - acc: 0.7513\n",
      "Epoch 128/150\n",
      "768/768 [==============================] - 3s 4ms/step - loss: 0.5046 - acc: 0.7500A: 1s - lo\n",
      "Epoch 129/150\n",
      "768/768 [==============================] - 4s 5ms/step - loss: 0.5194 - acc: 0.7552\n",
      "Epoch 130/150\n",
      "768/768 [==============================] - 4s 5ms/step - loss: 0.5046 - acc: 0.7552\n",
      "Epoch 131/150\n",
      "768/768 [==============================] - 3s 5ms/step - loss: 0.5030 - acc: 0.7474A: 2s - loss: 0.5 - ETA: 0s - loss: 0.5014 - acc\n",
      "Epoch 132/150\n",
      "768/768 [==============================] - 3s 5ms/step - loss: 0.4979 - acc: 0.7630A: 1s - loss: \n",
      "Epoch 133/150\n",
      "768/768 [==============================] - 3s 4ms/step - loss: 0.5054 - acc: 0.7526A: 1s - loss: \n",
      "Epoch 134/150\n",
      "768/768 [==============================] - 4s 5ms/step - loss: 0.4971 - acc: 0.7591\n",
      "Epoch 135/150\n",
      "768/768 [==============================] - 3s 5ms/step - loss: 0.4945 - acc: 0.7630\n",
      "Epoch 136/150\n",
      "768/768 [==============================] - 3s 4ms/step - loss: 0.4929 - acc: 0.7578\n",
      "Epoch 137/150\n",
      "768/768 [==============================] - 3s 4ms/step - loss: 0.5074 - acc: 0.7513\n",
      "Epoch 138/150\n",
      "768/768 [==============================] - 3s 4ms/step - loss: 0.4993 - acc: 0.7695\n",
      "Epoch 139/150\n",
      "768/768 [==============================] - 3s 5ms/step - loss: 0.4929 - acc: 0.7513A: \n",
      "Epoch 140/150\n",
      "768/768 [==============================] - 3s 4ms/step - loss: 0.4936 - acc: 0.7474A: 1s - loss:\n",
      "Epoch 141/150\n",
      "768/768 [==============================] - 3s 4ms/step - loss: 0.4867 - acc: 0.7734\n",
      "Epoch 142/150\n",
      "768/768 [==============================] - 3s 4ms/step - loss: 0.4923 - acc: 0.7656\n",
      "Epoch 143/150\n",
      "768/768 [==============================] - 3s 4ms/step - loss: 0.4894 - acc: 0.7630A: 1s - loss\n",
      "Epoch 144/150\n",
      "768/768 [==============================] - 3s 4ms/step - loss: 0.4847 - acc: 0.7656A: 2s\n",
      "Epoch 145/150\n",
      "768/768 [==============================] - 3s 4ms/step - loss: 0.4855 - acc: 0.7695A: 1s - loss: 0.4867\n",
      "Epoch 146/150\n",
      "768/768 [==============================] - 3s 4ms/step - loss: 0.4835 - acc: 0.7773A: 0s - loss: 0.4871 -\n",
      "Epoch 147/150\n",
      "768/768 [==============================] - 3s 4ms/step - loss: 0.4871 - acc: 0.7695A: 0s - loss: 0.4800 - acc: 0\n",
      "Epoch 148/150\n",
      "768/768 [==============================] - 3s 4ms/step - loss: 0.4864 - acc: 0.7708\n",
      "Epoch 149/150\n",
      "768/768 [==============================] - 3s 5ms/step - loss: 0.4760 - acc: 0.7760\n",
      "Epoch 150/150\n",
      "768/768 [==============================] - 3s 4ms/step - loss: 0.4736 - acc: 0.7708A: 2s - lo\n"
     ]
    },
    {
     "data": {
      "text/plain": [
       "<keras.callbacks.History at 0x208b90ea828>"
      ]
     },
     "execution_count": 10,
     "metadata": {},
     "output_type": "execute_result"
    }
   ],
   "source": [
    "# create model\n",
    "model = Sequential()\n",
    "model.add(Dense(12, input_dim=8, kernel_initializer='uniform', activation='relu'))\n",
    "model.add(Dense(8, kernel_initializer='uniform', activation='relu'))\n",
    "model.add(Dense(1, kernel_initializer='uniform', activation='sigmoid'))\n",
    "# Compile model\n",
    "model.compile(loss='binary_crossentropy', optimizer='adam', metrics=['accuracy'])\n",
    "# Fit the model\n",
    "model.fit(X, Y, epochs=150, batch_size=10, verbose=1,callbacks=[tensorboard])"
   ]
  },
  {
   "cell_type": "code",
   "execution_count": 11,
   "metadata": {},
   "outputs": [
    {
     "name": "stdout",
     "output_type": "stream",
     "text": [
      "Saved model to disk\n"
     ]
    }
   ],
   "source": [
    "# serialize model to JSON\n",
    "model_json = model.to_json()\n",
    "with open(\"model.json\", \"w\") as json_file:\n",
    "    json_file.write(model_json)\n",
    "# serialize weights to HDF5\n",
    "model.save_weights(\"model.h5\")\n",
    "print(\"Saved model to disk\")"
   ]
  },
  {
   "cell_type": "code",
   "execution_count": 12,
   "metadata": {},
   "outputs": [
    {
     "name": "stdout",
     "output_type": "stream",
     "text": [
      "Loaded model from disk\n"
     ]
    }
   ],
   "source": [
    "# load json and create model\n",
    "json_file = open('model.json', 'r')\n",
    "loaded_model_json = json_file.read()\n",
    "json_file.close()\n",
    "loaded_model = model_from_json(loaded_model_json)\n",
    "# load weights into new model\n",
    "loaded_model.load_weights(\"model.h5\")\n",
    "print(\"Loaded model from disk\")"
   ]
  },
  {
   "cell_type": "code",
   "execution_count": 13,
   "metadata": {},
   "outputs": [
    {
     "name": "stdout",
     "output_type": "stream",
     "text": [
      "acc: 78.26%\n"
     ]
    }
   ],
   "source": [
    "# evaluate loaded model on test data\n",
    "loaded_model.compile(loss='binary_crossentropy', optimizer='rmsprop', metrics=['accuracy'])\n",
    "score = loaded_model.evaluate(X, Y, verbose=0)\n",
    "print(\"%s: %.2f%%\" % (loaded_model.metrics_names[1], score[1]*100))"
   ]
  },
  {
   "cell_type": "code",
   "execution_count": null,
   "metadata": {},
   "outputs": [],
   "source": []
  }
 ],
 "metadata": {
  "kernelspec": {
   "display_name": "Python 3",
   "language": "python",
   "name": "python3"
  },
  "language_info": {
   "codemirror_mode": {
    "name": "ipython",
    "version": 3
   },
   "file_extension": ".py",
   "mimetype": "text/x-python",
   "name": "python",
   "nbconvert_exporter": "python",
   "pygments_lexer": "ipython3",
   "version": "3.6.7"
  }
 },
 "nbformat": 4,
 "nbformat_minor": 2
}
