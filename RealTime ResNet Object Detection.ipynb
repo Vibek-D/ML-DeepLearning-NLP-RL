{
 "cells": [
  {
   "cell_type": "code",
   "execution_count": 1,
   "metadata": {},
   "outputs": [
    {
     "name": "stderr",
     "output_type": "stream",
     "text": [
      "Using TensorFlow backend.\n"
     ]
    }
   ],
   "source": [
    "import tensorflow as tf\n",
    "\n",
    "from keras.applications import imagenet_utils\n",
    "\n",
    "from keras.applications import VGG16\n",
    "\n",
    "from keras.applications import ResNet50\n",
    "\n",
    "import cv2, threading\n",
    "\n",
    "import numpy as np"
   ]
  },
  {
   "cell_type": "code",
   "execution_count": 2,
   "metadata": {},
   "outputs": [
    {
     "name": "stdout",
     "output_type": "stream",
     "text": [
      "Loading network...\n",
      "Downloading data from https://github.com/fchollet/deep-learning-models/releases/download/v0.2/resnet50_weights_tf_dim_ordering_tf_kernels.h5\n",
      "102858752/102853048 [==============================] - 278s 3us/step\n",
      "Network loaded successfully!\n"
     ]
    }
   ],
   "source": [
    "# Initialize global variables to be used by the classification thread\n",
    "\n",
    "# and load up the network and save it as a tensorflow graph\n",
    "\n",
    "frame_to_predict = None\n",
    "\n",
    "classification = True\n",
    "\n",
    "label = ''\n",
    "\n",
    "score = .0\n",
    "\n",
    "print('Loading network...')\n",
    "\n",
    "# model = VGG16(weights='imagenet')\n",
    "\n",
    "model = ResNet50(weights='imagenet')\n",
    "\n",
    "graph = tf.get_default_graph()\n",
    "\n",
    "print('Network loaded successfully!')"
   ]
  },
  {
   "cell_type": "code",
   "execution_count": 3,
   "metadata": {},
   "outputs": [],
   "source": [
    "class MyThread(threading.Thread):\n",
    "\n",
    "    def __init__(self):\n",
    "\n",
    "        threading.Thread.__init__(self)\n",
    "\n",
    "        \n",
    "\n",
    "    def run(self):\n",
    "\n",
    "        global label\n",
    "\n",
    "        global frame_to_predict\n",
    "\n",
    "        global classification\n",
    "\n",
    "        global model\n",
    "\n",
    "        global graph\n",
    "\n",
    "        global score\n",
    "\n",
    "        \n",
    "\n",
    "        with graph.as_default():\n",
    "\n",
    "        \n",
    "\n",
    "            while classification is True: \n",
    "\n",
    "                if frame_to_predict is not None:\n",
    "\n",
    "                    frame_to_predict = cv2.cvtColor(frame_to_predict, cv2.COLOR_BGR2RGB).astype(np.float32)\n",
    "\n",
    "                    frame_to_predict = frame_to_predict.reshape((1, ) + frame_to_predict.shape)\n",
    "\n",
    "                    frame_to_predict = imagenet_utils.preprocess_input(frame_to_predict)\n",
    "\n",
    "                    predictions = model.predict(frame_to_predict)\n",
    "\n",
    "                    (imageID, label, score) = imagenet_utils.decode_predictions(predictions)[0][0]\n",
    "\n",
    "\n",
    "\n",
    "\n",
    "\n",
    "# Start a keras thread which will classify the frame returned by openCV\n",
    "\n",
    "keras_thread = MyThread()\n",
    "\n",
    "keras_thread.start()"
   ]
  },
  {
   "cell_type": "code",
   "execution_count": 4,
   "metadata": {},
   "outputs": [],
   "source": [
    "# Initialize OpenCV video captue\n",
    "\n",
    "video_capture = cv2.VideoCapture(0) # Set to 1 for front camera\n",
    "\n",
    "video_capture.set(4, 800) # Width\n",
    "\n",
    "video_capture.set(5, 600) # Height\n",
    "\n",
    "\n",
    "\n",
    "# Start the video capture loop\n",
    "\n",
    "while (True):\n",
    "\n",
    "    \n",
    "\n",
    "    # Get the original frame from video capture\n",
    "\n",
    "    ret, original_frame = video_capture.read()\n",
    "\n",
    "    # Resize the frame to fit the imageNet default input size\n",
    "\n",
    "    frame_to_predict = cv2.resize(original_frame, (224, 224))\n",
    "\n",
    "    \n",
    "\n",
    "    # Add text label and network score to the video captue\n",
    "\n",
    "    cv2.putText(original_frame, \"Label: %s | Score: %.2f\" % (label, score), \n",
    "\n",
    "                (10, 30), cv2.FONT_HERSHEY_SIMPLEX, 0.9, (0, 255, 0), 2)\n",
    "\n",
    "    # Display the video\n",
    "\n",
    "    cv2.imshow(\"Classification\", original_frame)\n",
    "\n",
    "\n",
    "\n",
    "    # Hit q or esc key to exit\n",
    "\n",
    "    if (cv2.waitKey(1) & 0xFF == ord('q')):\n",
    "\n",
    "        break;\n",
    "\n",
    "        \n",
    "\n",
    "classification = False\n",
    "\n",
    "video_capture.release()\n",
    "\n",
    "cv2.destroyAllWindows()    "
   ]
  },
  {
   "cell_type": "code",
   "execution_count": null,
   "metadata": {},
   "outputs": [],
   "source": []
  }
 ],
 "metadata": {
  "kernelspec": {
   "display_name": "Python 3",
   "language": "python",
   "name": "python3"
  },
  "language_info": {
   "codemirror_mode": {
    "name": "ipython",
    "version": 3
   },
   "file_extension": ".py",
   "mimetype": "text/x-python",
   "name": "python",
   "nbconvert_exporter": "python",
   "pygments_lexer": "ipython3",
   "version": "3.6.7"
  }
 },
 "nbformat": 4,
 "nbformat_minor": 2
}
